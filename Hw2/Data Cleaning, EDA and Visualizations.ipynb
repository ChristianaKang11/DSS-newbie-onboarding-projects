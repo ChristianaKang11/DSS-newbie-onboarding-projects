{
 "cells": [
  {
   "cell_type": "markdown",
   "id": "3ff984e5",
   "metadata": {},
   "source": [
    "# Homework 2: Data Cleaning, EDA and Visualizations #"
   ]
  },
  {
   "cell_type": "code",
   "execution_count": 57,
   "id": "1303dd69",
   "metadata": {},
   "outputs": [],
   "source": [
    "#import any libraries that you may need here\n",
    "import matplotlib.pyplot as plt\n",
    "import seaborn as sns\n",
    "import numpy as np\n",
    "import pandas as pd"
   ]
  },
  {
   "cell_type": "markdown",
   "id": "3695afd7",
   "metadata": {},
   "source": [
    "### We would like our new consultants and mentors to not just be technically skilled but also ethical leaders in their fields. Therefore, let us go over some basic data ethics knowledge. ###"
   ]
  },
  {
   "cell_type": "markdown",
   "id": "15eec8d5",
   "metadata": {},
   "source": [
    "## Section 1: Data Ethics\n",
    "\n",
    "### What are the different types of biases we mentioned during lecture? Pick one that you observe in yourself and describe how it may influence your decision-making."
   ]
  },
  {
   "cell_type": "markdown",
   "id": "ca71ef7d",
   "metadata": {},
   "source": [
    "There are selection bias, unconscious bias, algorithmic bias, confounding bias, experimenter bias, confirmation bias, and bandwagon effect.\n",
    "I observed experimenter bias in myself.In terms of post-stroke cognition, I held the preconceived belief that stroke patients'mental state became more depressed after stroke, which is biased. In fact, there are different trajectories of depression after stroke.Thus, before I recognized my experimenter bias, my modeling process and interpretation of the results are biased."
   ]
  },
  {
   "cell_type": "markdown",
   "id": "e0144af8",
   "metadata": {},
   "source": [
    "### How do you think you could overcome your biases? "
   ]
  },
  {
   "cell_type": "markdown",
   "id": "38256c4a",
   "metadata": {},
   "source": [
    "I could overcome my biases by understanding the scenario without making prior assumption or expectations. Being open and considering other probabilities is important."
   ]
  },
  {
   "cell_type": "markdown",
   "id": "c9b737e8",
   "metadata": {},
   "source": [
    "### What is one example of how unethical data analysis impacted a group of people? Avoid repeating the lecture example. "
   ]
  },
  {
   "cell_type": "markdown",
   "id": "abca82ca",
   "metadata": {},
   "source": [
    "An example of how algorithmic bias induce unethical data analysis is the current field of genetic data. Genetic data is usually produced by individuals with high quality health insurance plans or relatively economically advantaged class.Thus, the current genetic dataset is biasedly represented by middle to upper socialeconomic class, which is not applicable for groups of people that do not categorized as this group, especially people from underadvantaged background.In this way, the data analysis based on such a dataset is unethical in the terms of not achieving equity."
   ]
  },
  {
   "cell_type": "markdown",
   "id": "04db6f66",
   "metadata": {},
   "source": [
    "## Section 2: Data Cleaning"
   ]
  },
  {
   "cell_type": "markdown",
   "id": "f9e9a162",
   "metadata": {},
   "source": [
    "### Pick out a dataset that you are interested in working with on [Kaggle](https://www.kaggle.com/datasets)! You should continue working with it in future homeworks so that you have a comprehensive data science project by the end of the semester so pick a good one.\n",
    "### Download it and add it to the same folder that you are working in so that you are able to load it easily. You can refer to the [slides](https://docs.google.com/presentation/d/1UPj0F_I0CYoiUrbuSR9sYq50FEh8-RDG4usnTFaUBJI/edit#slide=id.g1c0cc4ea8d8_0_1369) that we used for onboarding for any help. ###"
   ]
  },
  {
   "cell_type": "code",
   "execution_count": 58,
   "id": "5b22ef85",
   "metadata": {},
   "outputs": [],
   "source": [
    "# load your dataset here, df is short for DataFrame. \n",
    "# E.g.You can use pd.read_csv() for csv files. \n",
    "df = pd.read_csv(\"TikTok_songs_2022.csv\")"
   ]
  },
  {
   "cell_type": "markdown",
   "id": "e0d173d8",
   "metadata": {},
   "source": [
    "####  Example"
   ]
  },
  {
   "cell_type": "code",
   "execution_count": 59,
   "id": "b17f27fb",
   "metadata": {},
   "outputs": [
    {
     "data": {
      "text/html": [
       "<div>\n",
       "<style scoped>\n",
       "    .dataframe tbody tr th:only-of-type {\n",
       "        vertical-align: middle;\n",
       "    }\n",
       "\n",
       "    .dataframe tbody tr th {\n",
       "        vertical-align: top;\n",
       "    }\n",
       "\n",
       "    .dataframe thead th {\n",
       "        text-align: right;\n",
       "    }\n",
       "</style>\n",
       "<table border=\"1\" class=\"dataframe\">\n",
       "  <thead>\n",
       "    <tr style=\"text-align: right;\">\n",
       "      <th></th>\n",
       "      <th>Year</th>\n",
       "      <th>Candidate</th>\n",
       "      <th>Party</th>\n",
       "      <th>Popular vote</th>\n",
       "      <th>Result</th>\n",
       "      <th>%</th>\n",
       "    </tr>\n",
       "  </thead>\n",
       "  <tbody>\n",
       "    <tr>\n",
       "      <th>0</th>\n",
       "      <td>1824</td>\n",
       "      <td>Andrew Jackson</td>\n",
       "      <td>Democratic-Republican</td>\n",
       "      <td>151271</td>\n",
       "      <td>loss</td>\n",
       "      <td>57.210122</td>\n",
       "    </tr>\n",
       "    <tr>\n",
       "      <th>1</th>\n",
       "      <td>1824</td>\n",
       "      <td>John Quincy Adams</td>\n",
       "      <td>Democratic-Republican</td>\n",
       "      <td>113142</td>\n",
       "      <td>win</td>\n",
       "      <td>42.789878</td>\n",
       "    </tr>\n",
       "    <tr>\n",
       "      <th>2</th>\n",
       "      <td>1828</td>\n",
       "      <td>Andrew Jackson</td>\n",
       "      <td>Democratic</td>\n",
       "      <td>642806</td>\n",
       "      <td>win</td>\n",
       "      <td>56.203927</td>\n",
       "    </tr>\n",
       "    <tr>\n",
       "      <th>3</th>\n",
       "      <td>1828</td>\n",
       "      <td>John Quincy Adams</td>\n",
       "      <td>National Republican</td>\n",
       "      <td>500897</td>\n",
       "      <td>loss</td>\n",
       "      <td>43.796073</td>\n",
       "    </tr>\n",
       "    <tr>\n",
       "      <th>4</th>\n",
       "      <td>1832</td>\n",
       "      <td>Andrew Jackson</td>\n",
       "      <td>Democratic</td>\n",
       "      <td>702735</td>\n",
       "      <td>win</td>\n",
       "      <td>54.574789</td>\n",
       "    </tr>\n",
       "  </tbody>\n",
       "</table>\n",
       "</div>"
      ],
      "text/plain": [
       "   Year          Candidate                  Party  Popular vote Result  \\\n",
       "0  1824     Andrew Jackson  Democratic-Republican        151271   loss   \n",
       "1  1824  John Quincy Adams  Democratic-Republican        113142    win   \n",
       "2  1828     Andrew Jackson             Democratic        642806    win   \n",
       "3  1828  John Quincy Adams    National Republican        500897   loss   \n",
       "4  1832     Andrew Jackson             Democratic        702735    win   \n",
       "\n",
       "           %  \n",
       "0  57.210122  \n",
       "1  42.789878  \n",
       "2  56.203927  \n",
       "3  43.796073  \n",
       "4  54.574789  "
      ]
     },
     "execution_count": 59,
     "metadata": {},
     "output_type": "execute_result"
    }
   ],
   "source": [
    "elections = pd.read_csv(\"elections.csv\")\n",
    "elections.head(5)"
   ]
  },
  {
   "cell_type": "markdown",
   "id": "9593b0c3",
   "metadata": {},
   "source": [
    "### Now let's do some data cleaning! Here are a list of questions that you should think through and answer while looking at your data. If your data is from kaggle, it might already be really clean, but practise answering these questions. \n",
    "\n",
    "### *At this point, just answer these questions and examine your data but don't attempt to clean it yet* ###\n",
    "\n",
    "- Does your data contain unrealistic or incorrect values?\n",
    "    - Dates in the future\n",
    "    - Locations that don’t exist\n",
    "    - Negative counts\n",
    "- Does your data violate obvious dependencies?\n",
    "    - Age and birthday not matching\n",
    "- Is the data coherent and consistent?\n",
    "    - Misspellings and inconsistent labels\n",
    "    - Was the data entered by hand?\n",
    "- Are there signs of data falsification?\n",
    "    - Repeated names, fake looking email addresses, uncommon names or fields\n",
    "- Do we need to convert any of the variable types in order to prepare for modelling?\n",
    "    - Qualitative variables that you might want to convert to numbers\n",
    "- Any other interesting observations?"
   ]
  },
  {
   "cell_type": "code",
   "execution_count": 60,
   "id": "57ca72ee",
   "metadata": {},
   "outputs": [],
   "source": [
    "### Write your answers to each of the questions here \n",
    "\n",
    "# Q1: Does your data contain unrealistic or incorrect values?\n",
    "\n",
    "# Some tracks have popularity of 0, which is unrealistic. If the song is popular on Tiktok,it is very likely to be popular throughout all platforms considering the heavy influence of Tiktok on our daily lives. At the first glance, I thought negative loudness seems to be incorrect, but negative loudness actually means the song is softer than the threshold of human hearing.\n",
    "\n",
    "# Q2: Does your data violate obvious dependencies?\n",
    "\n",
    "# No, the data is collected from Spotify using Spotify API, so I would assume Spotify labels it content correctly that the artist' name matches .\n",
    "\n",
    "# Q3: Is the data coherent and consistent?\n",
    "\n",
    "# The data is coherent and consistent in terms of format.There are no missing values as well.\n",
    "\n",
    "# Q4: Are there signs of data falsification?\n",
    "\n",
    "# There are no signs of data falsification, while there are two repeated songs but they are from different albums. This further shows that the importance of flexible criteria for data falsification for different context.\n",
    "\n",
    "# Q5: Do we need to convert any of the variable types in order to prepare for modelling?\n",
    "\n",
    "# We do not need to convert any of the variable types. \n",
    "\n",
    "# Q6: Any other interesting observations?\n",
    "\n",
    "# It is interesting that The Weeknd's \"Blinding Lights\" in his album 'After Hours' is way more popular than that in \"Blinding Lights.\""
   ]
  },
  {
   "cell_type": "code",
   "execution_count": 61,
   "id": "0547a6e3",
   "metadata": {},
   "outputs": [
    {
     "data": {
      "text/html": [
       "<div>\n",
       "<style scoped>\n",
       "    .dataframe tbody tr th:only-of-type {\n",
       "        vertical-align: middle;\n",
       "    }\n",
       "\n",
       "    .dataframe tbody tr th {\n",
       "        vertical-align: top;\n",
       "    }\n",
       "\n",
       "    .dataframe thead th {\n",
       "        text-align: right;\n",
       "    }\n",
       "</style>\n",
       "<table border=\"1\" class=\"dataframe\">\n",
       "  <thead>\n",
       "    <tr style=\"text-align: right;\">\n",
       "      <th></th>\n",
       "      <th>Year</th>\n",
       "      <th>Popular vote</th>\n",
       "      <th>%</th>\n",
       "    </tr>\n",
       "  </thead>\n",
       "  <tbody>\n",
       "    <tr>\n",
       "      <th>count</th>\n",
       "      <td>182.000000</td>\n",
       "      <td>1.820000e+02</td>\n",
       "      <td>182.000000</td>\n",
       "    </tr>\n",
       "    <tr>\n",
       "      <th>mean</th>\n",
       "      <td>1934.087912</td>\n",
       "      <td>1.235364e+07</td>\n",
       "      <td>27.470350</td>\n",
       "    </tr>\n",
       "    <tr>\n",
       "      <th>std</th>\n",
       "      <td>57.048908</td>\n",
       "      <td>1.907715e+07</td>\n",
       "      <td>22.968034</td>\n",
       "    </tr>\n",
       "    <tr>\n",
       "      <th>min</th>\n",
       "      <td>1824.000000</td>\n",
       "      <td>1.007150e+05</td>\n",
       "      <td>0.098088</td>\n",
       "    </tr>\n",
       "    <tr>\n",
       "      <th>25%</th>\n",
       "      <td>1889.000000</td>\n",
       "      <td>3.876395e+05</td>\n",
       "      <td>1.219996</td>\n",
       "    </tr>\n",
       "    <tr>\n",
       "      <th>50%</th>\n",
       "      <td>1936.000000</td>\n",
       "      <td>1.709375e+06</td>\n",
       "      <td>37.677893</td>\n",
       "    </tr>\n",
       "    <tr>\n",
       "      <th>75%</th>\n",
       "      <td>1988.000000</td>\n",
       "      <td>1.897775e+07</td>\n",
       "      <td>48.354977</td>\n",
       "    </tr>\n",
       "    <tr>\n",
       "      <th>max</th>\n",
       "      <td>2020.000000</td>\n",
       "      <td>8.126892e+07</td>\n",
       "      <td>61.344703</td>\n",
       "    </tr>\n",
       "  </tbody>\n",
       "</table>\n",
       "</div>"
      ],
      "text/plain": [
       "              Year  Popular vote           %\n",
       "count   182.000000  1.820000e+02  182.000000\n",
       "mean   1934.087912  1.235364e+07   27.470350\n",
       "std      57.048908  1.907715e+07   22.968034\n",
       "min    1824.000000  1.007150e+05    0.098088\n",
       "25%    1889.000000  3.876395e+05    1.219996\n",
       "50%    1936.000000  1.709375e+06   37.677893\n",
       "75%    1988.000000  1.897775e+07   48.354977\n",
       "max    2020.000000  8.126892e+07   61.344703"
      ]
     },
     "execution_count": 61,
     "metadata": {},
     "output_type": "execute_result"
    }
   ],
   "source": [
    "# Any exploratory code here\n",
    "# You can refer to the pandas section of the slides to do this\n",
    "elections.describe()"
   ]
  },
  {
   "cell_type": "code",
   "execution_count": 62,
   "id": "1e8909c9",
   "metadata": {},
   "outputs": [
    {
     "name": "stdout",
     "output_type": "stream",
     "text": [
      "<class 'pandas.core.frame.DataFrame'>\n",
      "RangeIndex: 263 entries, 0 to 262\n",
      "Data columns (total 18 columns):\n",
      " #   Column            Non-Null Count  Dtype  \n",
      "---  ------            --------------  -----  \n",
      " 0   track_name        263 non-null    object \n",
      " 1   artist_name       263 non-null    object \n",
      " 2   artist_pop        263 non-null    int64  \n",
      " 3   album             263 non-null    object \n",
      " 4   track_pop         263 non-null    int64  \n",
      " 5   danceability      263 non-null    float64\n",
      " 6   energy            263 non-null    float64\n",
      " 7   loudness          263 non-null    float64\n",
      " 8   mode              263 non-null    int64  \n",
      " 9   key               263 non-null    int64  \n",
      " 10  speechiness       263 non-null    float64\n",
      " 11  acousticness      263 non-null    float64\n",
      " 12  instrumentalness  263 non-null    float64\n",
      " 13  liveness          263 non-null    float64\n",
      " 14  valence           263 non-null    float64\n",
      " 15  tempo             263 non-null    float64\n",
      " 16  time_signature    263 non-null    int64  \n",
      " 17  duration_ms       263 non-null    int64  \n",
      "dtypes: float64(9), int64(6), object(3)\n",
      "memory usage: 37.1+ KB\n",
      "None\n",
      "track_name          258\n",
      "artist_name         199\n",
      "artist_pop           66\n",
      "album               251\n",
      "track_pop            71\n",
      "danceability        195\n",
      "energy              207\n",
      "loudness            257\n",
      "mode                  2\n",
      "key                  12\n",
      "speechiness         242\n",
      "acousticness        244\n",
      "instrumentalness    138\n",
      "liveness            206\n",
      "valence             228\n",
      "tempo               257\n",
      "time_signature        4\n",
      "duration_ms         260\n",
      "dtype: int64\n",
      "['Blinding Lights_The Weeknd']\n"
     ]
    }
   ],
   "source": [
    "print(df.info())\n",
    "print(df.nunique())\n",
    "df['track_artist']=df['track_name'].astype(str)+'_'+df['artist_name'].astype(str)\n",
    "print(df['track_artist'].value_counts()[df['track_artist'].value_counts() > 1].index.tolist())"
   ]
  },
  {
   "cell_type": "code",
   "execution_count": 63,
   "id": "478597a8",
   "metadata": {},
   "outputs": [
    {
     "data": {
      "text/html": [
       "<div>\n",
       "<style scoped>\n",
       "    .dataframe tbody tr th:only-of-type {\n",
       "        vertical-align: middle;\n",
       "    }\n",
       "\n",
       "    .dataframe tbody tr th {\n",
       "        vertical-align: top;\n",
       "    }\n",
       "\n",
       "    .dataframe thead th {\n",
       "        text-align: right;\n",
       "    }\n",
       "</style>\n",
       "<table border=\"1\" class=\"dataframe\">\n",
       "  <thead>\n",
       "    <tr style=\"text-align: right;\">\n",
       "      <th></th>\n",
       "      <th>track_name</th>\n",
       "      <th>artist_name</th>\n",
       "      <th>artist_pop</th>\n",
       "      <th>album</th>\n",
       "      <th>track_pop</th>\n",
       "      <th>danceability</th>\n",
       "      <th>energy</th>\n",
       "      <th>loudness</th>\n",
       "      <th>mode</th>\n",
       "      <th>key</th>\n",
       "      <th>speechiness</th>\n",
       "      <th>acousticness</th>\n",
       "      <th>instrumentalness</th>\n",
       "      <th>liveness</th>\n",
       "      <th>valence</th>\n",
       "      <th>tempo</th>\n",
       "      <th>time_signature</th>\n",
       "      <th>duration_ms</th>\n",
       "      <th>track_artist</th>\n",
       "    </tr>\n",
       "  </thead>\n",
       "  <tbody>\n",
       "    <tr>\n",
       "      <th>114</th>\n",
       "      <td>Blinding Lights</td>\n",
       "      <td>The Weeknd</td>\n",
       "      <td>93</td>\n",
       "      <td>After Hours</td>\n",
       "      <td>90</td>\n",
       "      <td>0.514</td>\n",
       "      <td>0.730</td>\n",
       "      <td>-5.934</td>\n",
       "      <td>1</td>\n",
       "      <td>1</td>\n",
       "      <td>0.0598</td>\n",
       "      <td>0.00146</td>\n",
       "      <td>0.000095</td>\n",
       "      <td>0.0897</td>\n",
       "      <td>0.334</td>\n",
       "      <td>171.005</td>\n",
       "      <td>4</td>\n",
       "      <td>200040</td>\n",
       "      <td>Blinding Lights_The Weeknd</td>\n",
       "    </tr>\n",
       "    <tr>\n",
       "      <th>241</th>\n",
       "      <td>Blinding Lights</td>\n",
       "      <td>The Weeknd</td>\n",
       "      <td>93</td>\n",
       "      <td>Blinding Lights</td>\n",
       "      <td>18</td>\n",
       "      <td>0.513</td>\n",
       "      <td>0.796</td>\n",
       "      <td>-4.075</td>\n",
       "      <td>1</td>\n",
       "      <td>1</td>\n",
       "      <td>0.0629</td>\n",
       "      <td>0.00147</td>\n",
       "      <td>0.000209</td>\n",
       "      <td>0.0938</td>\n",
       "      <td>0.345</td>\n",
       "      <td>171.017</td>\n",
       "      <td>4</td>\n",
       "      <td>201573</td>\n",
       "      <td>Blinding Lights_The Weeknd</td>\n",
       "    </tr>\n",
       "  </tbody>\n",
       "</table>\n",
       "</div>"
      ],
      "text/plain": [
       "          track_name artist_name  artist_pop            album  track_pop  \\\n",
       "114  Blinding Lights  The Weeknd          93      After Hours         90   \n",
       "241  Blinding Lights  The Weeknd          93  Blinding Lights         18   \n",
       "\n",
       "     danceability  energy  loudness  mode  key  speechiness  acousticness  \\\n",
       "114         0.514   0.730    -5.934     1    1       0.0598       0.00146   \n",
       "241         0.513   0.796    -4.075     1    1       0.0629       0.00147   \n",
       "\n",
       "     instrumentalness  liveness  valence    tempo  time_signature  \\\n",
       "114          0.000095    0.0897    0.334  171.005               4   \n",
       "241          0.000209    0.0938    0.345  171.017               4   \n",
       "\n",
       "     duration_ms                track_artist  \n",
       "114       200040  Blinding Lights_The Weeknd  \n",
       "241       201573  Blinding Lights_The Weeknd  "
      ]
     },
     "execution_count": 63,
     "metadata": {},
     "output_type": "execute_result"
    }
   ],
   "source": [
    "df[df['track_name']=='Blinding Lights']"
   ]
  },
  {
   "cell_type": "markdown",
   "id": "511e6be4",
   "metadata": {},
   "source": [
    "### More factors to consider\n",
    "\n",
    "Here is a list of a few more questions to consider while data cleaning! Answer them to get a deeper understanding of your data.\n",
    "\n",
    "- Do any of the keys in each table reference each other?\n",
    "    - Primary keys are the column or set of columns in a table that determine the values of the remaining columns\n",
    "    - Foreign keys are the column or sets of columns that reference primary keys in other tables\n",
    "    - Can we merge them tables?\n",
    "- What does each field specify? \n",
    "    - What is the variable type? \n",
    "    - Qualitative(Ordinal and Nominal), Quantitative (Continuous and discrete)\n",
    "    - String, integer, float, list, array etc.\n",
    "- Granularity? What does each record represent? Are there aggregations?\n",
    "- Where was this data collected from? What types of questions were asked to gather this data? How representative is it? When was it collected?\n",
    "- Truncated data \n",
    "    - Check the platform that you are working on, does it limit your data size?\n",
    "- Time zone inconsistencies\n",
    "    - Convert to common timezone\n",
    "- Duplicated records or fields -> eliminate carefully\n",
    "- Spelling errors\n",
    "- Units not specified or inconsistent\n",
    "- Missing Data\n",
    "- Redundant data\n",
    "- Simplify \n",
    "    - Take one column\n",
    "    - Combine multiple columns  into one\n",
    "- Aggregation\n",
    "    - groupby\n"
   ]
  },
  {
   "cell_type": "code",
   "execution_count": 64,
   "id": "ff366816",
   "metadata": {},
   "outputs": [],
   "source": [
    "### Your answers to each of the questions/ observations about each factor here \n",
    "\n",
    "# Q1: Do any of the keys in each table reference each other?\n",
    "\n",
    "# There is only one table in the dataset\n",
    "\n",
    "# Q2: track_name: qualitative, string; artist_name: qualitative,string; artist_pop: quantitative,int; album: qualitative, string; track_pop: qualitative,string; danceability: quantitative, float; energy: quantitative, float; loudness: quantitative, float; mode: quantitative, int; key: quantitative, int; speechiness: quantitative, float; acousticness: quantitative, float; instrumentalness: quantitative, float; liveness: quantitative, float; valence: quantitative, float; tempo: quantitative, float;time_signature: quantitative, int; duration_ms: quantitative, int\n",
    "\n",
    "#Q3: Each record represents a popular song on Tiktok\n",
    "\n",
    "#Q4: Data have been collected using Spotify API from Spotify in 2022\n",
    "\n",
    "#Q5: The dataset itself is not that big, since it only includes 263 popular Tiktok songs\n",
    "\n",
    "#Q6: There is no time zone inconsistencies\n",
    "\n",
    "#Q7: There is no repeated records as checked by previous section\n",
    "\n",
    "#Q8-11: The data format is quite organized and accruate, since it is collected from Spotify\n",
    "\n",
    "#Q12-13: Each variable demonstrates a distinct measure of the song, so simplification and aggregation are not necessary."
   ]
  },
  {
   "cell_type": "code",
   "execution_count": 65,
   "id": "cc531999",
   "metadata": {},
   "outputs": [],
   "source": [
    "# Any exploratory code here. \n",
    "# You can refer to the pandas section of the slides to do this"
   ]
  },
  {
   "cell_type": "code",
   "execution_count": 66,
   "id": "a92f7f1b",
   "metadata": {},
   "outputs": [
    {
     "data": {
      "text/plain": [
       "str"
      ]
     },
     "execution_count": 66,
     "metadata": {},
     "output_type": "execute_result"
    }
   ],
   "source": [
    "type(df['track_name'][0])"
   ]
  },
  {
   "cell_type": "markdown",
   "id": "ed52565a",
   "metadata": {},
   "source": [
    "## Addressing Missing Data/ Default Values"
   ]
  },
  {
   "cell_type": "markdown",
   "id": "a1f7ff91",
   "metadata": {},
   "source": [
    "### As you cleaned your data, you may have observed missing data/ default values. Decide what to do with these values and explain your decision-making process.\n",
    "\n",
    "Here are some methods to deal with missing values:\n",
    "- Drop records with missing values\n",
    "    - Check for biases induced by missing values - there may be trends in why something is missing\n",
    "    - This requires domain knowledge to check for induced bias\n",
    "- Imputation: Inferring missing values\n",
    "    - Replace with average value (closest related subgroup mean)\n",
    "    - Replace with a random value from the closest subgroup(Hot deck imputation) \n",
    "- Numerical: \n",
    "    - mean, mode, median\n",
    "- Categorical\n",
    "    - Mode, new category\n",
    "- Directly model missing values during future analysis"
   ]
  },
  {
   "cell_type": "code",
   "execution_count": 67,
   "id": "81105df3",
   "metadata": {},
   "outputs": [],
   "source": [
    "#Any preliminary cleaning necessary to start dealing with missing values"
   ]
  },
  {
   "cell_type": "code",
   "execution_count": 68,
   "id": "a1220e67",
   "metadata": {},
   "outputs": [
    {
     "data": {
      "text/html": [
       "<div>\n",
       "<style scoped>\n",
       "    .dataframe tbody tr th:only-of-type {\n",
       "        vertical-align: middle;\n",
       "    }\n",
       "\n",
       "    .dataframe tbody tr th {\n",
       "        vertical-align: top;\n",
       "    }\n",
       "\n",
       "    .dataframe thead th {\n",
       "        text-align: right;\n",
       "    }\n",
       "</style>\n",
       "<table border=\"1\" class=\"dataframe\">\n",
       "  <thead>\n",
       "    <tr style=\"text-align: right;\">\n",
       "      <th></th>\n",
       "      <th>Year</th>\n",
       "      <th>Candidate</th>\n",
       "      <th>Party</th>\n",
       "      <th>Popular vote</th>\n",
       "      <th>Result</th>\n",
       "      <th>%</th>\n",
       "    </tr>\n",
       "  </thead>\n",
       "  <tbody>\n",
       "    <tr>\n",
       "      <th>0</th>\n",
       "      <td>1824</td>\n",
       "      <td>Andrew Jackson</td>\n",
       "      <td>Democratic-Republican</td>\n",
       "      <td>151271</td>\n",
       "      <td>loss</td>\n",
       "      <td>57.210122</td>\n",
       "    </tr>\n",
       "    <tr>\n",
       "      <th>1</th>\n",
       "      <td>1824</td>\n",
       "      <td>John Quincy Adams</td>\n",
       "      <td>Democratic-Republican</td>\n",
       "      <td>113142</td>\n",
       "      <td>win</td>\n",
       "      <td>42.789878</td>\n",
       "    </tr>\n",
       "    <tr>\n",
       "      <th>2</th>\n",
       "      <td>1828</td>\n",
       "      <td>Andrew Jackson</td>\n",
       "      <td>Democratic</td>\n",
       "      <td>642806</td>\n",
       "      <td>win</td>\n",
       "      <td>56.203927</td>\n",
       "    </tr>\n",
       "    <tr>\n",
       "      <th>3</th>\n",
       "      <td>1828</td>\n",
       "      <td>John Quincy Adams</td>\n",
       "      <td>National Republican</td>\n",
       "      <td>500897</td>\n",
       "      <td>loss</td>\n",
       "      <td>43.796073</td>\n",
       "    </tr>\n",
       "    <tr>\n",
       "      <th>4</th>\n",
       "      <td>1832</td>\n",
       "      <td>Andrew Jackson</td>\n",
       "      <td>Democratic</td>\n",
       "      <td>702735</td>\n",
       "      <td>win</td>\n",
       "      <td>54.574789</td>\n",
       "    </tr>\n",
       "  </tbody>\n",
       "</table>\n",
       "</div>"
      ],
      "text/plain": [
       "   Year          Candidate                  Party  Popular vote Result  \\\n",
       "0  1824     Andrew Jackson  Democratic-Republican        151271   loss   \n",
       "1  1824  John Quincy Adams  Democratic-Republican        113142    win   \n",
       "2  1828     Andrew Jackson             Democratic        642806    win   \n",
       "3  1828  John Quincy Adams    National Republican        500897   loss   \n",
       "4  1832     Andrew Jackson             Democratic        702735    win   \n",
       "\n",
       "           %  \n",
       "0  57.210122  \n",
       "1  42.789878  \n",
       "2  56.203927  \n",
       "3  43.796073  \n",
       "4  54.574789  "
      ]
     },
     "execution_count": 68,
     "metadata": {},
     "output_type": "execute_result"
    }
   ],
   "source": [
    "#Code addressing missing values here e.g. df.dropna()\n",
    "elections.dropna().head(5) #remove this line, this is just an example"
   ]
  },
  {
   "cell_type": "code",
   "execution_count": 69,
   "id": "adffe4bb",
   "metadata": {},
   "outputs": [],
   "source": [
    "#Explain what types of missing values you found and the decisions you made in addressing them"
   ]
  },
  {
   "cell_type": "code",
   "execution_count": 70,
   "id": "4b9f3258",
   "metadata": {},
   "outputs": [],
   "source": [
    "# As checked in previous sections, the dataset is clean and no missing value needs to be addressed."
   ]
  },
  {
   "cell_type": "markdown",
   "id": "0570266a",
   "metadata": {},
   "source": [
    "## Handling outliers"
   ]
  },
  {
   "cell_type": "markdown",
   "id": "6bff8903",
   "metadata": {},
   "source": [
    "### Now let's handle any outliers. Same process as before!\n",
    "\n",
    "Here are some methods to deal with handling outliers:\n",
    "- Drop records with outliers\n",
    "    - Check for biases induced by missing values - there may be trends in why something is missing\n",
    "    - This requires domain knowledge to check for induced bias\n",
    "- Replace, as with Inferring missing values\n",
    "    - Typically with min or max\n",
    "- Binning\n",
    "    - E.g. greater than 5"
   ]
  },
  {
   "cell_type": "code",
   "execution_count": 71,
   "id": "24a201fd",
   "metadata": {},
   "outputs": [
    {
     "name": "stdout",
     "output_type": "stream",
     "text": [
      "count    263.000000\n",
      "mean      59.844106\n",
      "std       24.976524\n",
      "min        0.000000\n",
      "25%       47.000000\n",
      "50%       66.000000\n",
      "75%       79.500000\n",
      "max       97.000000\n",
      "Name: track_pop, dtype: float64\n"
     ]
    },
    {
     "data": {
      "image/png": "[encoded data removed]",
      "text/plain": [
       "<Figure size 432x288 with 1 Axes>"
      ]
     },
     "metadata": {
      "needs_background": "light"
     },
     "output_type": "display_data"
    }
   ],
   "source": [
    "#Code addressing outliers here\n",
    "sns.boxplot(x = 'track_pop', data = df)\n",
    "print(df['track_pop'].describe())"
   ]
  },
  {
   "cell_type": "code",
   "execution_count": 72,
   "id": "1d2fae88",
   "metadata": {},
   "outputs": [],
   "source": [
    "#Explain what types of outliers you found and the decisions you made in addressing them"
   ]
  },
  {
   "cell_type": "markdown",
   "id": "e7727cc9",
   "metadata": {},
   "source": [
    "I found min values of the popularity of the track as 0, which are unrealistic as addressed in the previous section and outliers. I want to study the significant features of Tiktok popular songs in 2022, so I can better predict potential popular songs in 2023. I will just ignore the tracks with popularity lower the firstquartile considering the purpose of this data analysis. "
   ]
  },
  {
   "cell_type": "markdown",
   "id": "401fa136",
   "metadata": {},
   "source": [
    "## Let's clean!"
   ]
  },
  {
   "cell_type": "markdown",
   "id": "a60c1bbf",
   "metadata": {},
   "source": [
    "### Now that we have a much deeper understanding of our data and have dealt with a few preliminary issues, clean up the data so that it is useful and accurate!  "
   ]
  },
  {
   "cell_type": "code",
   "execution_count": 73,
   "id": "896e2113",
   "metadata": {},
   "outputs": [],
   "source": [
    "### Your code here\n",
    "df=df[df['track_pop']>=47]"
   ]
  },
  {
   "cell_type": "code",
   "execution_count": 74,
   "id": "f2cf8f78",
   "metadata": {},
   "outputs": [
    {
     "data": {
      "text/html": [
       "<div>\n",
       "<style scoped>\n",
       "    .dataframe tbody tr th:only-of-type {\n",
       "        vertical-align: middle;\n",
       "    }\n",
       "\n",
       "    .dataframe tbody tr th {\n",
       "        vertical-align: top;\n",
       "    }\n",
       "\n",
       "    .dataframe thead th {\n",
       "        text-align: right;\n",
       "    }\n",
       "</style>\n",
       "<table border=\"1\" class=\"dataframe\">\n",
       "  <thead>\n",
       "    <tr style=\"text-align: right;\">\n",
       "      <th></th>\n",
       "      <th>artist_pop</th>\n",
       "      <th>track_pop</th>\n",
       "      <th>danceability</th>\n",
       "      <th>energy</th>\n",
       "      <th>loudness</th>\n",
       "      <th>mode</th>\n",
       "      <th>key</th>\n",
       "      <th>speechiness</th>\n",
       "      <th>acousticness</th>\n",
       "      <th>instrumentalness</th>\n",
       "      <th>liveness</th>\n",
       "      <th>valence</th>\n",
       "      <th>tempo</th>\n",
       "      <th>time_signature</th>\n",
       "      <th>duration_ms</th>\n",
       "    </tr>\n",
       "  </thead>\n",
       "  <tbody>\n",
       "    <tr>\n",
       "      <th>count</th>\n",
       "      <td>198.000000</td>\n",
       "      <td>198.000000</td>\n",
       "      <td>198.000000</td>\n",
       "      <td>198.000000</td>\n",
       "      <td>198.000000</td>\n",
       "      <td>198.000000</td>\n",
       "      <td>198.000000</td>\n",
       "      <td>198.000000</td>\n",
       "      <td>198.000000</td>\n",
       "      <td>198.000000</td>\n",
       "      <td>198.000000</td>\n",
       "      <td>198.000000</td>\n",
       "      <td>198.000000</td>\n",
       "      <td>198.000000</td>\n",
       "      <td>198.000000</td>\n",
       "    </tr>\n",
       "    <tr>\n",
       "      <th>mean</th>\n",
       "      <td>68.368687</td>\n",
       "      <td>71.181818</td>\n",
       "      <td>0.716975</td>\n",
       "      <td>0.681101</td>\n",
       "      <td>-6.192545</td>\n",
       "      <td>0.530303</td>\n",
       "      <td>5.611111</td>\n",
       "      <td>0.115334</td>\n",
       "      <td>0.191268</td>\n",
       "      <td>0.019771</td>\n",
       "      <td>0.192928</td>\n",
       "      <td>0.516589</td>\n",
       "      <td>122.216005</td>\n",
       "      <td>3.984848</td>\n",
       "      <td>176478.585859</td>\n",
       "    </tr>\n",
       "    <tr>\n",
       "      <th>std</th>\n",
       "      <td>15.854363</td>\n",
       "      <td>13.832474</td>\n",
       "      <td>0.117039</td>\n",
       "      <td>0.138775</td>\n",
       "      <td>1.892194</td>\n",
       "      <td>0.500346</td>\n",
       "      <td>3.721972</td>\n",
       "      <td>0.098522</td>\n",
       "      <td>0.211164</td>\n",
       "      <td>0.105890</td>\n",
       "      <td>0.149004</td>\n",
       "      <td>0.219204</td>\n",
       "      <td>25.092004</td>\n",
       "      <td>0.235811</td>\n",
       "      <td>35600.328927</td>\n",
       "    </tr>\n",
       "    <tr>\n",
       "      <th>min</th>\n",
       "      <td>29.000000</td>\n",
       "      <td>47.000000</td>\n",
       "      <td>0.308000</td>\n",
       "      <td>0.214000</td>\n",
       "      <td>-13.468000</td>\n",
       "      <td>0.000000</td>\n",
       "      <td>0.000000</td>\n",
       "      <td>0.025900</td>\n",
       "      <td>0.000038</td>\n",
       "      <td>0.000000</td>\n",
       "      <td>0.026500</td>\n",
       "      <td>0.038600</td>\n",
       "      <td>62.948000</td>\n",
       "      <td>3.000000</td>\n",
       "      <td>85742.000000</td>\n",
       "    </tr>\n",
       "    <tr>\n",
       "      <th>25%</th>\n",
       "      <td>58.250000</td>\n",
       "      <td>58.000000</td>\n",
       "      <td>0.659750</td>\n",
       "      <td>0.590250</td>\n",
       "      <td>-7.312500</td>\n",
       "      <td>0.000000</td>\n",
       "      <td>2.000000</td>\n",
       "      <td>0.045750</td>\n",
       "      <td>0.025250</td>\n",
       "      <td>0.000000</td>\n",
       "      <td>0.094325</td>\n",
       "      <td>0.367750</td>\n",
       "      <td>106.065000</td>\n",
       "      <td>4.000000</td>\n",
       "      <td>151791.500000</td>\n",
       "    </tr>\n",
       "    <tr>\n",
       "      <th>50%</th>\n",
       "      <td>68.000000</td>\n",
       "      <td>76.000000</td>\n",
       "      <td>0.728000</td>\n",
       "      <td>0.695500</td>\n",
       "      <td>-5.996000</td>\n",
       "      <td>1.000000</td>\n",
       "      <td>6.000000</td>\n",
       "      <td>0.070600</td>\n",
       "      <td>0.121000</td>\n",
       "      <td>0.000005</td>\n",
       "      <td>0.128000</td>\n",
       "      <td>0.485000</td>\n",
       "      <td>122.018500</td>\n",
       "      <td>4.000000</td>\n",
       "      <td>172529.000000</td>\n",
       "    </tr>\n",
       "    <tr>\n",
       "      <th>75%</th>\n",
       "      <td>82.000000</td>\n",
       "      <td>82.000000</td>\n",
       "      <td>0.795750</td>\n",
       "      <td>0.782750</td>\n",
       "      <td>-4.723000</td>\n",
       "      <td>1.000000</td>\n",
       "      <td>9.000000</td>\n",
       "      <td>0.153750</td>\n",
       "      <td>0.287250</td>\n",
       "      <td>0.000382</td>\n",
       "      <td>0.258750</td>\n",
       "      <td>0.687000</td>\n",
       "      <td>130.009750</td>\n",
       "      <td>4.000000</td>\n",
       "      <td>201154.500000</td>\n",
       "    </tr>\n",
       "    <tr>\n",
       "      <th>max</th>\n",
       "      <td>95.000000</td>\n",
       "      <td>97.000000</td>\n",
       "      <td>0.961000</td>\n",
       "      <td>0.955000</td>\n",
       "      <td>-2.634000</td>\n",
       "      <td>1.000000</td>\n",
       "      <td>11.000000</td>\n",
       "      <td>0.481000</td>\n",
       "      <td>0.936000</td>\n",
       "      <td>0.915000</td>\n",
       "      <td>0.790000</td>\n",
       "      <td>0.956000</td>\n",
       "      <td>187.906000</td>\n",
       "      <td>5.000000</td>\n",
       "      <td>298933.000000</td>\n",
       "    </tr>\n",
       "  </tbody>\n",
       "</table>\n",
       "</div>"
      ],
      "text/plain": [
       "       artist_pop   track_pop  danceability      energy    loudness  \\\n",
       "count  198.000000  198.000000    198.000000  198.000000  198.000000   \n",
       "mean    68.368687   71.181818      0.716975    0.681101   -6.192545   \n",
       "std     15.854363   13.832474      0.117039    0.138775    1.892194   \n",
       "min     29.000000   47.000000      0.308000    0.214000  -13.468000   \n",
       "25%     58.250000   58.000000      0.659750    0.590250   -7.312500   \n",
       "50%     68.000000   76.000000      0.728000    0.695500   -5.996000   \n",
       "75%     82.000000   82.000000      0.795750    0.782750   -4.723000   \n",
       "max     95.000000   97.000000      0.961000    0.955000   -2.634000   \n",
       "\n",
       "             mode         key  speechiness  acousticness  instrumentalness  \\\n",
       "count  198.000000  198.000000   198.000000    198.000000        198.000000   \n",
       "mean     0.530303    5.611111     0.115334      0.191268          0.019771   \n",
       "std      0.500346    3.721972     0.098522      0.211164          0.105890   \n",
       "min      0.000000    0.000000     0.025900      0.000038          0.000000   \n",
       "25%      0.000000    2.000000     0.045750      0.025250          0.000000   \n",
       "50%      1.000000    6.000000     0.070600      0.121000          0.000005   \n",
       "75%      1.000000    9.000000     0.153750      0.287250          0.000382   \n",
       "max      1.000000   11.000000     0.481000      0.936000          0.915000   \n",
       "\n",
       "         liveness     valence       tempo  time_signature    duration_ms  \n",
       "count  198.000000  198.000000  198.000000      198.000000     198.000000  \n",
       "mean     0.192928    0.516589  122.216005        3.984848  176478.585859  \n",
       "std      0.149004    0.219204   25.092004        0.235811   35600.328927  \n",
       "min      0.026500    0.038600   62.948000        3.000000   85742.000000  \n",
       "25%      0.094325    0.367750  106.065000        4.000000  151791.500000  \n",
       "50%      0.128000    0.485000  122.018500        4.000000  172529.000000  \n",
       "75%      0.258750    0.687000  130.009750        4.000000  201154.500000  \n",
       "max      0.790000    0.956000  187.906000        5.000000  298933.000000  "
      ]
     },
     "execution_count": 74,
     "metadata": {},
     "output_type": "execute_result"
    }
   ],
   "source": [
    "df.describe()"
   ]
  },
  {
   "cell_type": "markdown",
   "id": "55179527",
   "metadata": {},
   "source": [
    "## Section 3: EDA "
   ]
  },
  {
   "cell_type": "markdown",
   "id": "874c1a52",
   "metadata": {},
   "source": [
    "### Study the data and observe any potential trends/ consider models that you might be able to implement. Study the relationships between the different columns and see if you can find any insights. List at least 2 potential project ideas."
   ]
  },
  {
   "cell_type": "code",
   "execution_count": 75,
   "id": "e7c7ee69",
   "metadata": {},
   "outputs": [
    {
     "name": "stdout",
     "output_type": "stream",
     "text": [
      "                      sum_sq     df         F    PR(>F)\n",
      "loudness            0.371609    1.0  0.001949  0.964835\n",
      "mode                2.309111    1.0  0.012109  0.912490\n",
      "key               597.081095    1.0  3.131202  0.078394\n",
      "tempo              48.557956    1.0  0.254647  0.614401\n",
      "time_signature    398.712659    1.0  2.090922  0.149807\n",
      "Residual        36611.996549  192.0       NaN       NaN\n",
      "correlation between danceability and popularity: -0.14893204348096664\n"
     ]
    }
   ],
   "source": [
    "# Exploratory code here\n",
    "#1.What are some significant accoustic characteristics of the track that contribute to its popularity?\n",
    "import statsmodels.api as sm\n",
    "from statsmodels.formula.api import ols\n",
    "model=ols('track_pop ~loudness+mode+key+tempo+time_signature',data=df).fit()\n",
    "print(sm.stats.anova_lm(model,typ=2))\n",
    "\n",
    "#2 How are the danceability of a song affect its popularity?\n",
    "print('correlation between danceability and popularity:',df['danceability'].corr(df['track_pop']))\n",
    "#e.g. df.corr() gives you the correlation coefficients between columns"
   ]
  },
  {
   "cell_type": "markdown",
   "id": "d06757b0",
   "metadata": {},
   "source": [
    "# Section 4: Visualizations\n",
    "\n",
    "### This is also part of EDA! The whole process is rather cyclical. For this part, make 3 visualizations and describe what you see. \n",
    "\n",
    "### Then, make 2 out of 3 these visualizations.\n",
    "### 1. Heat Map\n",
    "### 2. KDE Plot\n",
    "### 3. Box Plot\n",
    "\n",
    "### So in total, you should have made 5 visualizations."
   ]
  },
  {
   "cell_type": "code",
   "execution_count": 76,
   "id": "e038af96",
   "metadata": {},
   "outputs": [
    {
     "data": {
      "text/plain": [
       "<AxesSubplot:>"
      ]
     },
     "execution_count": 76,
     "metadata": {},
     "output_type": "execute_result"
    },
    {
     "data": {
      "image/png": "[encoded data removed]",
      "text/plain": [
       "<Figure size 432x288 with 2 Axes>"
      ]
     },
     "metadata": {
      "needs_background": "light"
     },
     "output_type": "display_data"
    }
   ],
   "source": [
    "#Visualization 1\n",
    "nonaccoustic_factors=['danceability','energy','speechiness','acousticness','instrumentalness','liveness','valence','track_pop']\n",
    "sns.heatmap(df[nonaccoustic_factors].corr(),data=df[nonaccoustic_factors])\n",
    "\n",
    "#Your observations\n",
    "#It is very self-exploratory that ascoutic and energy are highly correlated, since more you feel you hear more energy you can feel.\n",
    "#Valence and danceability are also positively correlated, which makes sense that when people feel more positive towards a song, they tend to dance with it."
   ]
  },
  {
   "cell_type": "code",
   "execution_count": 78,
   "id": "f3a1d157",
   "metadata": {},
   "outputs": [
    {
     "data": {
      "text/plain": [
       "<AxesSubplot:xlabel='duration_ms', ylabel='Density'>"
      ]
     },
     "execution_count": 78,
     "metadata": {},
     "output_type": "execute_result"
    },
    {
     "data": {
      "image/png": "[encoded data removed]",
      "text/plain": [
       "<Figure size 432x288 with 1 Axes>"
      ]
     },
     "metadata": {
      "needs_background": "light"
     },
     "output_type": "display_data"
    }
   ],
   "source": [
    "#Visualization 2\n",
    "\n",
    "sns.kdeplot(data=df['duration_ms'], color='blue',shade=True)\n",
    "\n",
    "#Your observations\n",
    "# The time duration of the popular songs is a little bit skewed to the right."
   ]
  },
  {
   "cell_type": "code",
   "execution_count": 77,
   "id": "4474d277",
   "metadata": {},
   "outputs": [
    {
     "data": {
      "text/plain": [
       "<AxesSubplot:xlabel='artist_pop'>"
      ]
     },
     "execution_count": 77,
     "metadata": {},
     "output_type": "execute_result"
    },
    {
     "data": {
      "image/png": "[encoded data removed]",
      "text/plain": [
       "<Figure size 432x288 with 1 Axes>"
      ]
     },
     "metadata": {
      "needs_background": "light"
     },
     "output_type": "display_data"
    }
   ],
   "source": [
    "#Visualization 3\n",
    "\n",
    "sns.boxplot(x = 'artist_pop', data = df)\n",
    "#Your observations\n",
    "# A large percentage of the artists of the popular songs is relatively more popular."
   ]
  },
  {
   "cell_type": "code",
   "execution_count": 80,
   "id": "09fab91e",
   "metadata": {},
   "outputs": [
    {
     "data": {
      "text/plain": [
       "<AxesSubplot:>"
      ]
     },
     "execution_count": 80,
     "metadata": {},
     "output_type": "execute_result"
    },
    {
     "data": {
      "image/png": "[encoded data removed]",
      "text/plain": [
       "<Figure size 432x288 with 2 Axes>"
      ]
     },
     "metadata": {
      "needs_background": "light"
     },
     "output_type": "display_data"
    }
   ],
   "source": [
    "#Visualization 4\n",
    "\n",
    "accoustic_factors=['loudness','mode','key','tempo','time_signature']\n",
    "sns.heatmap(df[accoustic_factors].corr(),data=df[accoustic_factors])\n",
    "\n",
    "#Your observations\n",
    "#The strong negative correlation between tempo and time_signature is very reasonble, since faster the tempo comes with shorter time signature."
   ]
  },
  {
   "cell_type": "code",
   "execution_count": 82,
   "id": "e292bd43",
   "metadata": {},
   "outputs": [
    {
     "data": {
      "text/plain": [
       "<AxesSubplot:xlabel='artist_pop', ylabel='Density'>"
      ]
     },
     "execution_count": 82,
     "metadata": {},
     "output_type": "execute_result"
    },
    {
     "data": {
      "image/png": "[encoded data removed]",
      "text/plain": [
       "<Figure size 432x288 with 1 Axes>"
      ]
     },
     "metadata": {
      "needs_background": "light"
     },
     "output_type": "display_data"
    }
   ],
   "source": [
    "#Visualization 5\n",
    "\n",
    "sns.kdeplot(data=df['artist_pop'], color='purple',shade=True)\n",
    "\n",
    "\n",
    "#Your observations\n",
    "#The popularity of artists is skewed to the left, which is quite reasonble, since people listen more and dance more with the songs of popular artists."
   ]
  },
  {
   "cell_type": "markdown",
   "id": "e151a17a",
   "metadata": {},
   "source": [
    "### Which visualization is the best for your dataset and why?"
   ]
  },
  {
   "cell_type": "code",
   "execution_count": 83,
   "id": "8ff40fd6",
   "metadata": {},
   "outputs": [],
   "source": [
    "#Your answer here\n",
    "#Heat Map is the best for my dataset, because I want to study the correlations between variables and factors contributing to the popularity of the songs."
   ]
  },
  {
   "cell_type": "markdown",
   "id": "3a8f9ef1",
   "metadata": {},
   "source": [
    "# Good job!\n",
    "\n",
    "### As a quick wrap-up, think about how your biases might have affected your judgement and if there is anything you want to work on. \n",
    "\n",
    "### As you can see, working with a dataset outside of class is much less structured. However, with practice, you will be become much sharper and efficient at wrangling data. Good luck with the next project!"
   ]
  },
  {
   "cell_type": "code",
   "execution_count": 84,
   "id": "384096cc",
   "metadata": {},
   "outputs": [],
   "source": [
    "#Quick reflection#\n",
    "# Algorithmic bias might have affect my judgement because I interpret variables such as \"acousticness\" and \"liveness\" based on my personal understanding. The data is not coded clearly."
   ]
  },
  {
   "cell_type": "markdown",
   "id": "a36e4502",
   "metadata": {},
   "source": [
    "### Fantastic job ~ Remember to push all your changes your GitHub repository and submit on Gradescope.\n",
    "### Thank you for your time :)\n",
    "### That's all for this homework! "
   ]
  }
 ],
 "metadata": {
  "kernelspec": {
   "display_name": "Python 3 (ipykernel)",
   "language": "python",
   "name": "python3"
  },
  "language_info": {
   "codemirror_mode": {
    "name": "ipython",
    "version": 3
   },
   "file_extension": ".py",
   "mimetype": "text/x-python",
   "name": "python",
   "nbconvert_exporter": "python",
   "pygments_lexer": "ipython3",
   "version": "3.9.12"
  }
 },
 "nbformat": 4,
 "nbformat_minor": 5
}
